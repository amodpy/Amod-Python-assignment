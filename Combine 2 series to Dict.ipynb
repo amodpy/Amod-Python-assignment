{
 "cells": [
  {
   "cell_type": "code",
   "execution_count": 18,
   "metadata": {
    "scrolled": true
   },
   "outputs": [
    {
     "name": "stdout",
     "output_type": "stream",
     "text": [
      "Combined series is : \n",
      "0      a\n",
      "1      b\n",
      "2      c\n",
      "3      e\n",
      "4      d\n",
      "5      f\n",
      "6      g\n",
      "7      h\n",
      "8      i\n",
      "9      j\n",
      "10     k\n",
      "11     l\n",
      "12     m\n",
      "13     n\n",
      "14     o\n",
      "15     p\n",
      "16     q\n",
      "17     r\n",
      "18     s\n",
      "19     t\n",
      "20     u\n",
      "21     v\n",
      "22     w\n",
      "23     x\n",
      "24     y\n",
      "25     z\n",
      "26     0\n",
      "27     1\n",
      "28     2\n",
      "29     3\n",
      "30     4\n",
      "31     5\n",
      "32     6\n",
      "33     7\n",
      "34     8\n",
      "35     9\n",
      "36    10\n",
      "37    11\n",
      "38    12\n",
      "39    13\n",
      "40    14\n",
      "41    15\n",
      "42    16\n",
      "43    17\n",
      "44    18\n",
      "45    19\n",
      "46    20\n",
      "47    21\n",
      "48    22\n",
      "49    23\n",
      "50    24\n",
      "51    25\n",
      "dtype: object\n",
      "Dictionary form of combined series : \n",
      "{0: 'a', 1: 'b', 2: 'c', 3: 'e', 4: 'd', 5: 'f', 6: 'g', 7: 'h', 8: 'i', 9: 'j', 10: 'k', 11: 'l', 12: 'm', 13: 'n', 14: 'o', 15: 'p', 16: 'q', 17: 'r', 18: 's', 19: 't', 20: 'u', 21: 'v', 22: 'w', 23: 'x', 24: 'y', 25: 'z', 26: 0, 27: 1, 28: 2, 29: 3, 30: 4, 31: 5, 32: 6, 33: 7, 34: 8, 35: 9, 36: 10, 37: 11, 38: 12, 39: 13, 40: 14, 41: 15, 42: 16, 43: 17, 44: 18, 45: 19, 46: 20, 47: 21, 48: 22, 49: 23, 50: 24, 51: 25}\n"
     ]
    }
   ],
   "source": [
    "'''\n",
    "(Q) How to combine two series into a dict\n",
    "\n",
    "ser1 = pd.Series(list('abcedfghijklmnopqrstuvwxyz')) ser2 = pd.Series(np.arange(26))\n",
    "\n",
    "'''\n",
    "import pandas as pd\n",
    "import numpy as np\n",
    "ser1 = pd.Series(list('abcedfghijklmnopqrstuvwxyz'))\n",
    "ser2 = pd.Series(np.arange(26))\n",
    "result  = pd.concat([ser1,ser2], ignore_index = True)\n",
    "print('Combined series is : ')\n",
    "print(result)\n",
    "print('Dictionary form of combined series : ')\n",
    "print(result.to_dict())"
   ]
  },
  {
   "cell_type": "code",
   "execution_count": null,
   "metadata": {},
   "outputs": [],
   "source": []
  },
  {
   "cell_type": "code",
   "execution_count": null,
   "metadata": {},
   "outputs": [],
   "source": []
  }
 ],
 "metadata": {
  "kernelspec": {
   "display_name": "Python 3",
   "language": "python",
   "name": "python3"
  },
  "language_info": {
   "codemirror_mode": {
    "name": "ipython",
    "version": 3
   },
   "file_extension": ".py",
   "mimetype": "text/x-python",
   "name": "python",
   "nbconvert_exporter": "python",
   "pygments_lexer": "ipython3",
   "version": "3.7.3"
  }
 },
 "nbformat": 4,
 "nbformat_minor": 2
}
