{
 "cells": [
  {
   "cell_type": "code",
   "execution_count": 4,
   "metadata": {},
   "outputs": [
    {
     "name": "stdout",
     "output_type": "stream",
     "text": [
      "sum of the array : 97\n",
      "Sum of array is : 39\n"
     ]
    }
   ],
   "source": [
    "'''\n",
    "Q.3  Create an array and find out the sum of the elements\n",
    "'''\n",
    "import numpy as np\n",
    "# Create array using array function\n",
    "ages = np.array([1,5,10,4,15,20,7,35])\n",
    "print(\"sum of the array :\", ages.sum())\n",
    "ages = np.array([[1,2,3],\n",
    "                  [3,4,5],\n",
    "                  [6,7,8]])\n",
    "    \n",
    "print(\"Sum of array is :\", ages.sum())"
   ]
  },
  {
   "cell_type": "code",
   "execution_count": null,
   "metadata": {},
   "outputs": [],
   "source": []
  }
 ],
 "metadata": {
  "kernelspec": {
   "display_name": "Python 3",
   "language": "python",
   "name": "python3"
  },
  "language_info": {
   "codemirror_mode": {
    "name": "ipython",
    "version": 3
   },
   "file_extension": ".py",
   "mimetype": "text/x-python",
   "name": "python",
   "nbconvert_exporter": "python",
   "pygments_lexer": "ipython3",
   "version": "3.7.3"
  }
 },
 "nbformat": 4,
 "nbformat_minor": 2
}
