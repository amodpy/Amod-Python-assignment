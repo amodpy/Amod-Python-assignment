{
 "cells": [
  {
   "cell_type": "code",
   "execution_count": 7,
   "metadata": {},
   "outputs": [
    {
     "name": "stdout",
     "output_type": "stream",
     "text": [
      "print different ages using array function:\n",
      "[[24 12 26]\n",
      " [ 8 12 46]\n",
      " [ 1  2  3]]\n",
      "Dimensions of array is : 2\n",
      "Shape of array is :  (3, 3)\n"
     ]
    }
   ],
   "source": [
    "'''\n",
    " Q .Identify the shape and dimensions of an array\n",
    "'''\n",
    "import numpy as np\n",
    "# Create array using array function\n",
    "ages = np.array([[24, 12, 26],\n",
    "                [8, 12, 46],\n",
    "                [1, 2,  3]])\n",
    "print('print different ages using array function:')\n",
    "print(ages)\n",
    "print(\"Dimensions of array is :\", ages.ndim)\n",
    "print(\"Shape of array is : \", ages.shape)\n"
   ]
  },
  {
   "cell_type": "code",
   "execution_count": null,
   "metadata": {},
   "outputs": [],
   "source": []
  }
 ],
 "metadata": {
  "kernelspec": {
   "display_name": "Python 3",
   "language": "python",
   "name": "python3"
  },
  "language_info": {
   "codemirror_mode": {
    "name": "ipython",
    "version": 3
   },
   "file_extension": ".py",
   "mimetype": "text/x-python",
   "name": "python",
   "nbconvert_exporter": "python",
   "pygments_lexer": "ipython3",
   "version": "3.7.3"
  }
 },
 "nbformat": 4,
 "nbformat_minor": 2
}
