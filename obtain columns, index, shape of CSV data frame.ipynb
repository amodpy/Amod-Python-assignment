{
 "cells": [
  {
   "cell_type": "code",
   "execution_count": 8,
   "metadata": {
    "scrolled": false
   },
   "outputs": [
    {
     "name": "stdout",
     "output_type": "stream",
     "text": [
      "        day  temperature  windspeed  event\n",
      "0  1/1/2017           32          6   Rain\n",
      "1  1/2/2017           35          7  Sunny\n",
      "2  1/3/2017           28          2   Snow\n",
      "3  1/4/2017           24          7   Snow\n",
      "4  1/5/2017           32          4   Rain\n",
      "5  1/6/2017           31          2  Sunny\n",
      "columns in above data frame is :\n",
      "Index(['day', 'temperature', 'windspeed', 'event'], dtype='object')\n",
      "Index in above data frame is \n",
      "RangeIndex(start=0, stop=6, step=1)\n",
      "Shape of given data frame is\n",
      "(6, 4)\n"
     ]
    }
   ],
   "source": [
    "'''\n",
    "Import csv file using pd.read_csv method, Use the weather_data.csv from the pandas folder\n",
    " Obtain the columns, index and shape of the above data frame.\n",
    "'''\n",
    "import pandas as pd\n",
    "import numpy as np\n",
    "file = pd.read_csv('Weather_data.csv')\n",
    "print(file)\n",
    "print('columns in above data frame is :')\n",
    "print(file.columns)\n",
    "print(\"Index in above data frame is \" )\n",
    "print(file.index)\n",
    "print('Shape of given data frame is')\n",
    "print(file.shape)\n"
   ]
  },
  {
   "cell_type": "code",
   "execution_count": null,
   "metadata": {},
   "outputs": [],
   "source": []
  },
  {
   "cell_type": "code",
   "execution_count": null,
   "metadata": {},
   "outputs": [],
   "source": []
  }
 ],
 "metadata": {
  "kernelspec": {
   "display_name": "Python 3",
   "language": "python",
   "name": "python3"
  },
  "language_info": {
   "codemirror_mode": {
    "name": "ipython",
    "version": 3
   },
   "file_extension": ".py",
   "mimetype": "text/x-python",
   "name": "python",
   "nbconvert_exporter": "python",
   "pygments_lexer": "ipython3",
   "version": "3.7.3"
  }
 },
 "nbformat": 4,
 "nbformat_minor": 2
}
