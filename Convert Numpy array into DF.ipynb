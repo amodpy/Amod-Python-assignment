{
 "cells": [
  {
   "cell_type": "code",
   "execution_count": 11,
   "metadata": {
    "scrolled": true
   },
   "outputs": [
    {
     "name": "stdout",
     "output_type": "stream",
     "text": [
      "DataFrame of given numpy array : \n",
      "    number\n",
      "0        1\n",
      "1        7\n",
      "2        9\n",
      "3        9\n",
      "4        1\n",
      "5        1\n",
      "6        4\n",
      "7        5\n",
      "8        8\n",
      "9        5\n",
      "10       1\n",
      "11       7\n",
      "12       9\n",
      "13       4\n",
      "14       6\n",
      "15       2\n",
      "16       6\n",
      "17       3\n",
      "18       1\n",
      "19       4\n",
      "20       4\n",
      "21       8\n",
      "22       6\n",
      "23       6\n",
      "24       2\n",
      "25       1\n",
      "26       8\n",
      "27       5\n",
      "28       8\n",
      "29       1\n",
      "30       3\n",
      "31       7\n",
      "32       9\n",
      "33       2\n",
      "34       6\n"
     ]
    }
   ],
   "source": [
    "'''\n",
    "(Q) How to convert a numpy array to a dataframe of given shape? a = pd.Series(np.random.randint(1, 10, 35))\n",
    "'''\n",
    "import pandas as pd\n",
    "import numpy as np\n",
    "a = pd.Series(np.random.randint(1, 10, 35))\n",
    "#print(a)\n",
    "# define column name for tuples\n",
    "columns = ['number']\n",
    "# Convert numpy array into DataFrame\n",
    "df = pd.DataFrame(a, columns = columns)\n",
    "print('DataFrame of given numpy array : ')\n",
    "print(df)\n"
   ]
  },
  {
   "cell_type": "code",
   "execution_count": null,
   "metadata": {},
   "outputs": [],
   "source": []
  },
  {
   "cell_type": "code",
   "execution_count": null,
   "metadata": {},
   "outputs": [],
   "source": []
  }
 ],
 "metadata": {
  "kernelspec": {
   "display_name": "Python 3",
   "language": "python",
   "name": "python3"
  },
  "language_info": {
   "codemirror_mode": {
    "name": "ipython",
    "version": 3
   },
   "file_extension": ".py",
   "mimetype": "text/x-python",
   "name": "python",
   "nbconvert_exporter": "python",
   "pygments_lexer": "ipython3",
   "version": "3.7.3"
  }
 },
 "nbformat": 4,
 "nbformat_minor": 2
}
