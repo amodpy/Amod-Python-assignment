{
 "cells": [
  {
   "cell_type": "code",
   "execution_count": 2,
   "metadata": {},
   "outputs": [
    {
     "name": "stdout",
     "output_type": "stream",
     "text": [
      "This program provides simple Calculator for add/subtract/divide/multiply  \n",
      "\n",
      "Enter '1' - For Addition\n",
      "Enter '2' - For Substraction\n",
      "Enter '3' - For Multiplication\n",
      "Enter '4' - For Division\n",
      "\n",
      "Enter First Number  23\n",
      "Enter Second Number  45\n",
      "Enter Choice 1-add /2-subtract /3- multiply /4-division  :  5\n",
      "please try again with correct choice\n",
      "Enter Choice 1-add /2-subtract /3- multiply /4-division  :  6\n",
      "please try again with correct choice\n",
      "Enter Choice 1-add /2-subtract /3- multiply /4-division  :  7\n",
      "please try again with correct choice\n",
      "Enter Choice 1-add /2-subtract /3- multiply /4-division  :  8\n",
      "please try again with correct choice\n",
      "Enter Choice 1-add /2-subtract /3- multiply /4-division  :  6\n",
      "please try again with correct choice\n",
      "Enter Choice 1-add /2-subtract /3- multiply /4-division  :  7\n",
      "please try again with correct choice\n",
      "Enter Choice 1-add /2-subtract /3- multiply /4-division  :  8\n",
      "please try again with correct choice\n",
      "Enter Choice 1-add /2-subtract /3- multiply /4-division  :  4\n",
      "Division of 23 and 45 is 0.5111111111111111\n"
     ]
    }
   ],
   "source": [
    "\"\"\"\n",
    "Assignment 3.2: Python program to make a simple calculator that can add, \n",
    "subtract, multiply and division\n",
    "\"\"\"\n",
    "# Add function\n",
    "def add(num1,num2):\n",
    "    return num1 + num2\n",
    "# Subtract function\n",
    "def subtract(num1,num2):\n",
    "    return num1 - num2\n",
    "# Multiply function\n",
    "def multiply(num1,num2):\n",
    "    return num1 * num2\n",
    "# Divide function\n",
    "def divide(num1,num2):\n",
    "    if num2 != 0:\n",
    "        # num2 must not be zero\n",
    "        return num1 / num2\n",
    "    else:\n",
    "        return False\n",
    "    \n",
    "# Driver program\n",
    "print('This program provides simple Calculator for add/subtract/divide/multiply  ')\n",
    "print('''\n",
    "Enter '1' - For Addition\n",
    "Enter '2' - For Substraction\n",
    "Enter '3' - For Multiplication\n",
    "Enter '4' - For Division\n",
    "''')\n",
    "number1 = int(input('Enter First Number  '))\n",
    "number2 = int(input('Enter Second Number  '))    \n",
    "while(True):\n",
    "    choice  = int(input('Enter Choice 1-add /2-subtract /3- multiply /4-division  :  ')) \n",
    "    if choice == 1:\n",
    "        print('Sum of {} and {} is {}'.format(number1,number2,add(number1,number2)))\n",
    "        break\n",
    "    elif choice == 2:\n",
    "        print('Subtraction of {} and {} is {}'.format(number1,number2,subtract(number1,number2)))\n",
    "        break\n",
    "    elif choice == 3:\n",
    "        print('Multiplication of {} and {} is {}'.format(number1,number2,multiply(number1,number2)))\n",
    "        break\n",
    "    elif choice == 4:\n",
    "        print('Division of {} and {} is {}'.format(number1,number2,divide(number1,number2)))\n",
    "        break\n",
    "    else:\n",
    "        print('please try again with correct choice')\n",
    "    \n"
   ]
  },
  {
   "cell_type": "code",
   "execution_count": null,
   "metadata": {},
   "outputs": [],
   "source": []
  },
  {
   "cell_type": "code",
   "execution_count": null,
   "metadata": {},
   "outputs": [],
   "source": []
  }
 ],
 "metadata": {
  "kernelspec": {
   "display_name": "Python 3",
   "language": "python",
   "name": "python3"
  },
  "language_info": {
   "codemirror_mode": {
    "name": "ipython",
    "version": 3
   },
   "file_extension": ".py",
   "mimetype": "text/x-python",
   "name": "python",
   "nbconvert_exporter": "python",
   "pygments_lexer": "ipython3",
   "version": "3.7.3"
  }
 },
 "nbformat": 4,
 "nbformat_minor": 2
}
