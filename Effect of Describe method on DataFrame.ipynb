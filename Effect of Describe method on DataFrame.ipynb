{
 "cells": [
  {
   "cell_type": "code",
   "execution_count": 14,
   "metadata": {
    "scrolled": true
   },
   "outputs": [
    {
     "name": "stdout",
     "output_type": "stream",
     "text": [
      "        day  temperature  windspeed  event\n",
      "0  1/1/2017           32          6   Rain\n",
      "1  1/2/2017           35          7  Sunny\n",
      "2  1/3/2017           28          2   Snow\n",
      "3  1/4/2017           24          7   Snow\n",
      "4  1/5/2017           32          4   Rain\n",
      "5  1/6/2017           31          2  Sunny\n",
      "********-----------------------**************\n",
      "Describe view of above dataFrame is : \n",
      "        temperature  windspeed\n",
      "count     6.000000   6.000000\n",
      "mean     30.333333   4.666667\n",
      "std       3.829708   2.338090\n",
      "min      24.000000   2.000000\n",
      "25%      28.750000   2.500000\n",
      "50%      31.500000   5.000000\n",
      "75%      32.000000   6.750000\n",
      "max      35.000000   7.000000\n",
      "\n",
      "\n"
     ]
    },
    {
     "data": {
      "text/plain": [
       "'\\nConclusion says - print(file) will display all data frame values including columns/rows/index while file.describe() \\nwill display only numeric coulums with statistical details \\n\\n'"
      ]
     },
     "execution_count": 14,
     "metadata": {},
     "output_type": "execute_result"
    }
   ],
   "source": [
    "'''\n",
    "Import csv file using pd.read_csv method, Use the weather_data.csv from the pandas folder\n",
    "Obtain the columns, index and shape of the above data frame.\n",
    "Use describe method on the dataframe and write your conclusion\n",
    "'''\n",
    "import pandas as pd\n",
    "import numpy as np\n",
    "file = pd.read_csv('Weather_data.csv')\n",
    "print(file)\n",
    "print('********-----------------------**************')\n",
    "print('Describe view of above dataFrame is : \\n', file.describe())\n",
    "print('\\n')\n",
    "\n",
    "\"\"\"\n",
    "Conclusion says - print(file) will display all data frame values including columns/rows/index while file.describe() \n",
    "will display only numeric coulums with statistical details \n",
    "\n",
    "\"\"\""
   ]
  },
  {
   "cell_type": "code",
   "execution_count": null,
   "metadata": {},
   "outputs": [],
   "source": []
  },
  {
   "cell_type": "code",
   "execution_count": null,
   "metadata": {},
   "outputs": [],
   "source": []
  }
 ],
 "metadata": {
  "kernelspec": {
   "display_name": "Python 3",
   "language": "python",
   "name": "python3"
  },
  "language_info": {
   "codemirror_mode": {
    "name": "ipython",
    "version": 3
   },
   "file_extension": ".py",
   "mimetype": "text/x-python",
   "name": "python",
   "nbconvert_exporter": "python",
   "pygments_lexer": "ipython3",
   "version": "3.7.3"
  }
 },
 "nbformat": 4,
 "nbformat_minor": 2
}
