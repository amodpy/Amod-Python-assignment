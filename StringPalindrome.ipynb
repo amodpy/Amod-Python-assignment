{
 "cells": [
  {
   "cell_type": "code",
   "execution_count": 25,
   "metadata": {},
   "outputs": [
    {
     "name": "stdout",
     "output_type": "stream",
     "text": [
      "This program will say whether entered string is palindrome or not\n",
      "Enter stringamodgdoma\n",
      " \"amodgdoma\" is palinddrome\n"
     ]
    }
   ],
   "source": [
    "'''\n",
    "Assignment 2.1: Python Program to Check where a String is Palindrome or not?\n",
    "'''\n",
    "# Function to reverse string\n",
    "def Reverse(s):\n",
    "    return s[::-1]\n",
    "# Function to tell string is palindrome or not\n",
    "def IsPalindrome(s):\n",
    "    # Call revserse function\n",
    "    stringreverse = Reverse(s)\n",
    "    # checking if both string is equal or not\n",
    "    if stringreverse == s:\n",
    "        return True\n",
    "    else:\n",
    "        return False\n",
    "    \n",
    "# Driver program\n",
    "print('This program will say whether entered string is palindrome or not')\n",
    "s = input(\"Enter string\")\n",
    "palindrome = IsPalindrome(s)\n",
    "if palindrome == True:\n",
    "    print(' \"'+s+'\" ' + 'is palinddrome')\n",
    "else:\n",
    "    print(' \"'+s+'\" ' + 'is not palinddrome')\n",
    "    "
   ]
  },
  {
   "cell_type": "markdown",
   "metadata": {},
   "source": []
  },
  {
   "cell_type": "code",
   "execution_count": null,
   "metadata": {},
   "outputs": [],
   "source": []
  }
 ],
 "metadata": {
  "kernelspec": {
   "display_name": "Python 3",
   "language": "python",
   "name": "python3"
  },
  "language_info": {
   "codemirror_mode": {
    "name": "ipython",
    "version": 3
   },
   "file_extension": ".py",
   "mimetype": "text/x-python",
   "name": "python",
   "nbconvert_exporter": "python",
   "pygments_lexer": "ipython3",
   "version": "3.7.3"
  }
 },
 "nbformat": 4,
 "nbformat_minor": 2
}
