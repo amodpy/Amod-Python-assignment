{
 "cells": [
  {
   "cell_type": "code",
   "execution_count": 23,
   "metadata": {},
   "outputs": [
    {
     "name": "stdout",
     "output_type": "stream",
     "text": [
      "This program will tell you whether given number is prime or not\n",
      "Enter Number25\n",
      "25 is not prime\n"
     ]
    }
   ],
   "source": [
    "\"\"\"\n",
    "Assignment 1.2: Python Program to check given number is Prime number or not\n",
    "\"\"\"\n",
    "# Define function to check whether given number is prime or not\n",
    "import math\n",
    "def IsPrime(number):\n",
    "    if number <= 1:\n",
    "        return False\n",
    "\n",
    "    if number == 2: \n",
    "        return True\n",
    "\n",
    "    if number > 2 and (number % 2) == 0:\n",
    "          return False\n",
    "    \n",
    "    max_divisor = math.floor(math.sqrt(number))\n",
    "    for divisor in range(3, max_divisor + 1, 2):\n",
    "        if number % divisor == 0:\n",
    "            return False\n",
    "    \n",
    "    else:\n",
    "        return True\n",
    "    \n",
    "\n",
    "print('This program will tell you whether given number is prime or not')\n",
    "number = int(input('Enter Number'))  \n",
    "isprime = IsPrime(number)\n",
    "if isprime == True:\n",
    "    print(number, 'is a prime number')\n",
    "else:\n",
    "     print(number, 'is not prime')\n"
   ]
  },
  {
   "cell_type": "code",
   "execution_count": null,
   "metadata": {},
   "outputs": [],
   "source": []
  },
  {
   "cell_type": "code",
   "execution_count": null,
   "metadata": {},
   "outputs": [],
   "source": []
  }
 ],
 "metadata": {
  "kernelspec": {
   "display_name": "Python 3",
   "language": "python",
   "name": "python3"
  },
  "language_info": {
   "codemirror_mode": {
    "name": "ipython",
    "version": 3
   },
   "file_extension": ".py",
   "mimetype": "text/x-python",
   "name": "python",
   "nbconvert_exporter": "python",
   "pygments_lexer": "ipython3",
   "version": "3.7.3"
  }
 },
 "nbformat": 4,
 "nbformat_minor": 2
}
