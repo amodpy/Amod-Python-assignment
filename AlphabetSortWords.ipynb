{
 "cells": [
  {
   "cell_type": "code",
   "execution_count": 3,
   "metadata": {},
   "outputs": [
    {
     "name": "stdout",
     "output_type": "stream",
     "text": [
      "this will sort your sentences alphabetically\n",
      "Enter a sentenceI am the this room\n",
      "Sorted words are as :  ['I', 'am', 'room', 'the', 'this']\n"
     ]
    }
   ],
   "source": [
    "'''\n",
    "Assignment 2.2: Python Program to Sort Words in Alphabetic Order?\n",
    "'''\n",
    "# function to return sorted words  \n",
    "def StringSorted(s):\n",
    "    # split sentence into wrods and keep as list\n",
    "    words = s.split()\n",
    "    # sort the splitted words\n",
    "    words.sort()\n",
    "    # return sorted words\n",
    "    return words\n",
    "\n",
    "# Driver Program\n",
    "print('this will sort your sentences alphabetically')\n",
    "s = input('Enter a sentence')\n",
    "# call function\n",
    "sortedwords = StringSorted(s)\n",
    "print('Sorted words are as : ', sortedwords)\n"
   ]
  },
  {
   "cell_type": "code",
   "execution_count": null,
   "metadata": {},
   "outputs": [],
   "source": []
  }
 ],
 "metadata": {
  "kernelspec": {
   "display_name": "Python 3",
   "language": "python",
   "name": "python3"
  },
  "language_info": {
   "codemirror_mode": {
    "name": "ipython",
    "version": 3
   },
   "file_extension": ".py",
   "mimetype": "text/x-python",
   "name": "python",
   "nbconvert_exporter": "python",
   "pygments_lexer": "ipython3",
   "version": "3.7.3"
  }
 },
 "nbformat": 4,
 "nbformat_minor": 2
}
