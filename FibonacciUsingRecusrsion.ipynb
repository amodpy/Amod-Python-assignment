{
 "cells": [
  {
   "cell_type": "code",
   "execution_count": 5,
   "metadata": {},
   "outputs": [
    {
     "name": "stdout",
     "output_type": "stream",
     "text": [
      "This program will give Fibonacci series upto nth term\n",
      "Enter number of terms for Fibonacci series13\n",
      "Fibonacci Series upto 13 terms is [0, 1, 1, 2, 3, 5, 8, 13, 21, 34, 55, 89, 144]\n"
     ]
    }
   ],
   "source": [
    "'''\n",
    "Assignment 3.3: Python program to display the Fibonacci sequence up to nth term using recursive function\n",
    "'''\n",
    "# function to return Fibonacci series\n",
    "def FibonacciSeries(n):\n",
    "    if n <= 1:\n",
    "        return n\n",
    "    else:\n",
    "        return FibonacciSeries(n-1) + FibonacciSeries(n-2)\n",
    "    \n",
    "# Driver program\n",
    "print('This program will give Fibonacci series upto nth term' )\n",
    "n = int(input('Enter number of terms for Fibonacci series'))\n",
    "series = []\n",
    "for i in range(n):\n",
    "    term = FibonacciSeries(i)\n",
    "    series.append(term)\n",
    "print('Fibonacci Series upto {} terms is {}'.format(n,series))\n",
    "    \n",
    "    "
   ]
  },
  {
   "cell_type": "code",
   "execution_count": null,
   "metadata": {},
   "outputs": [],
   "source": []
  }
 ],
 "metadata": {
  "kernelspec": {
   "display_name": "Python 3",
   "language": "python",
   "name": "python3"
  },
  "language_info": {
   "codemirror_mode": {
    "name": "ipython",
    "version": 3
   },
   "file_extension": ".py",
   "mimetype": "text/x-python",
   "name": "python",
   "nbconvert_exporter": "python",
   "pygments_lexer": "ipython3",
   "version": "3.7.3"
  }
 },
 "nbformat": 4,
 "nbformat_minor": 2
}
