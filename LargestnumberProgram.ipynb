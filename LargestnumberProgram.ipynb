{
 "cells": [
  {
   "cell_type": "code",
   "execution_count": 1,
   "metadata": {},
   "outputs": [
    {
     "name": "stdout",
     "output_type": "stream",
     "text": [
      "This program will return largest among three numbers\n",
      "Enter First number  23\n",
      "Enter Second number  -34\n",
      "Enter Third number  26\n",
      "largest number is  26\n"
     ]
    }
   ],
   "source": [
    "'''\n",
    "Assignment 1.1: Python program to find the largest element among three Numbers\n",
    "'''\n",
    "# Define method to return largest element among three numbers\n",
    "\n",
    "def largest(num_list):\n",
    "    largest = num_list[0]\n",
    "    for num in num_list:\n",
    "        if num > largest:\n",
    "            largest = num\n",
    "    return largest\n",
    "\n",
    "print('This program will return largest among three numbers')\n",
    "num_list = []\n",
    "number1 = int(input('Enter First number  '))\n",
    "number2 = int(input('Enter Second number  '))\n",
    "number3 = int(input('Enter Third number  '))\n",
    "num_list.append(number1)\n",
    "num_list.append(number2)\n",
    "num_list.append(number3)\n",
    "# Calling largest method by passing Entire list\n",
    "largest = largest(num_list)\n",
    "print('largest number is ' , largest)\n"
   ]
  },
  {
   "cell_type": "code",
   "execution_count": null,
   "metadata": {},
   "outputs": [],
   "source": []
  }
 ],
 "metadata": {
  "kernelspec": {
   "display_name": "Python 3",
   "language": "python",
   "name": "python3"
  },
  "language_info": {
   "codemirror_mode": {
    "name": "ipython",
    "version": 3
   },
   "file_extension": ".py",
   "mimetype": "text/x-python",
   "name": "python",
   "nbconvert_exporter": "python",
   "pygments_lexer": "ipython3",
   "version": "3.7.3"
  }
 },
 "nbformat": 4,
 "nbformat_minor": 2
}
