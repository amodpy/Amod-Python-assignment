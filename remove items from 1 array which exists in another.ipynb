{
 "cells": [
  {
   "cell_type": "code",
   "execution_count": 33,
   "metadata": {},
   "outputs": [
    {
     "name": "stdout",
     "output_type": "stream",
     "text": [
      "Remaining array \"a\" after removal:  [2 4]\n",
      "Remaining array after removal using set operation : difference -  [2 4]\n"
     ]
    }
   ],
   "source": [
    "'''\n",
    " Q.5 How to remove from one array those items that exist in another? a = np.array([1, 2, 3, 4, 5]) b = np.array([5, 6, 3, 1, 4])\n",
    "'''\n",
    "#from numpy import array\n",
    "#from numpy import setdiff1d\n",
    "import numpy as np\n",
    "a = np.array([1,2,3,4,5])\n",
    "b = np.array([5,6,3,1])\n",
    "# One way is to use std. fucntion\n",
    "a = np.setdiff1d(a,b)\n",
    "print('Remaining array \"a\" after removal: ',a)\n",
    "# other way is to use set functions\n",
    "setA = set(a)\n",
    "setB = set(b)\n",
    "setA = setA - setB\n",
    "a = np.array(list(setA))\n",
    "print('Remaining array after removal using set operation : difference - ', a)"
   ]
  },
  {
   "cell_type": "code",
   "execution_count": null,
   "metadata": {},
   "outputs": [],
   "source": []
  }
 ],
 "metadata": {
  "kernelspec": {
   "display_name": "Python 3",
   "language": "python",
   "name": "python3"
  },
  "language_info": {
   "codemirror_mode": {
    "name": "ipython",
    "version": 3
   },
   "file_extension": ".py",
   "mimetype": "text/x-python",
   "name": "python",
   "nbconvert_exporter": "python",
   "pygments_lexer": "ipython3",
   "version": "3.7.3"
  }
 },
 "nbformat": 4,
 "nbformat_minor": 2
}
