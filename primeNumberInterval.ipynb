{
 "cells": [
  {
   "cell_type": "code",
   "execution_count": 4,
   "metadata": {},
   "outputs": [
    {
     "name": "stdout",
     "output_type": "stream",
     "text": [
      "This program will display all prime numbers in an interval \"(Inclusive)\" \n",
      "Enter lower limit 1\n",
      "Enter upper limit 50\n",
      "prime numbers in interval from 1 to 50 is\n",
      "[2, 3, 5, 7, 11, 13, 17, 19, 23, 29, 31, 37, 41, 43, 47]\n"
     ]
    }
   ],
   "source": [
    "'''\n",
    "Assignment 1.3: Python Program to display all prime numbers within an interval\n",
    "Considering interval as inclusive\n",
    "'''\n",
    "# Function to return all prime number in an interval\n",
    "import math\n",
    "def IsPrime(number):\n",
    "    if number <= 1:\n",
    "        return False\n",
    "\n",
    "    if number == 2: \n",
    "        return True\n",
    "\n",
    "    if number > 2 and (number % 2) == 0:\n",
    "          return False\n",
    "    \n",
    "    max_divisor = math.floor(math.sqrt(number))\n",
    "    for divisor in range(3, max_divisor + 1, 2):\n",
    "        if number % divisor == 0:\n",
    "            return False\n",
    "    \n",
    "    else:\n",
    "        return True\n",
    "    \n",
    "print('This program will display all prime numbers in an interval \"(Inclusive)\" ')\n",
    "lowerlimit = int(input('Enter lower limit '))\n",
    "upperlimit = int(input('Enter upper limit '))\n",
    "primenumber = []\n",
    "for number in range(lowerlimit, upperlimit + 1):\n",
    "    isprime = IsPrime(number)\n",
    "    if isprime == True:\n",
    "        primenumber.append(number)\n",
    "\n",
    "print('prime numbers in interval from {} to {} is'.format(lowerlimit, upperlimit))\n",
    "print(primenumber)\n",
    "    "
   ]
  },
  {
   "cell_type": "code",
   "execution_count": null,
   "metadata": {},
   "outputs": [],
   "source": []
  }
 ],
 "metadata": {
  "kernelspec": {
   "display_name": "Python 3",
   "language": "python",
   "name": "python3"
  },
  "language_info": {
   "codemirror_mode": {
    "name": "ipython",
    "version": 3
   },
   "file_extension": ".py",
   "mimetype": "text/x-python",
   "name": "python",
   "nbconvert_exporter": "python",
   "pygments_lexer": "ipython3",
   "version": "3.7.3"
  }
 },
 "nbformat": 4,
 "nbformat_minor": 2
}
