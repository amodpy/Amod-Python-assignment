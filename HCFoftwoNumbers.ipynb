{
 "cells": [
  {
   "cell_type": "code",
   "execution_count": 9,
   "metadata": {},
   "outputs": [
    {
     "name": "stdout",
     "output_type": "stream",
     "text": [
      "This program will return HCF/GCD of two positive numbers\n",
      "Enter First number  48\n",
      "Enter Second number  60\n",
      "GCD/HCF of 48 and 60 is 12\n"
     ]
    }
   ],
   "source": [
    "'''\n",
    "Assignment 3.1: Python program to print Highest Common Factor (HCF) of two numbers\n",
    "'''\n",
    "# function to return HCF of 2 numbers\n",
    "def CalculateHCF(num1, num2):\n",
    "    # everything divides zero \n",
    "    if num1 == 0:\n",
    "        return num2\n",
    "    if num2 == 0:\n",
    "        return num1\n",
    "    # Base case for recusrsion\n",
    "    if num1 == num2:\n",
    "        return num1\n",
    "    if num1 > num2:\n",
    "        return CalculateHCF(num2, num1 % num2)\n",
    "    return CalculateHCF(num1, num2 % num1)\n",
    "\n",
    "# Driver program\n",
    "print('This program will return HCF/GCD of two positive numbers')\n",
    "number_first  = int(input('Enter First number  '))\n",
    "number_second = int(input('Enter Second number  '))\n",
    "if (CalculateHCF(number_first, number_second)):\n",
    "    print('GCD/HCF of {} and {} is {}'.format(number_first, number_second, CalculateHCF(number_first, number_second)))\n",
    "else:\n",
    "          print('GCD/HCF of {} and {} is not found'.format(number_first, number_second))\n",
    "          "
   ]
  },
  {
   "cell_type": "code",
   "execution_count": null,
   "metadata": {},
   "outputs": [],
   "source": []
  },
  {
   "cell_type": "code",
   "execution_count": null,
   "metadata": {},
   "outputs": [],
   "source": []
  }
 ],
 "metadata": {
  "kernelspec": {
   "display_name": "Python 3",
   "language": "python",
   "name": "python3"
  },
  "language_info": {
   "codemirror_mode": {
    "name": "ipython",
    "version": 3
   },
   "file_extension": ".py",
   "mimetype": "text/x-python",
   "name": "python",
   "nbconvert_exporter": "python",
   "pygments_lexer": "ipython3",
   "version": "3.7.3"
  }
 },
 "nbformat": 4,
 "nbformat_minor": 2
}
