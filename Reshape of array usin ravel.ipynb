{
 "cells": [
  {
   "cell_type": "code",
   "execution_count": 21,
   "metadata": {},
   "outputs": [
    {
     "name": "stdout",
     "output_type": "stream",
     "text": [
      "original arrays is :  [[1 2 3 4]]\n",
      "Shape of original array (1, 4)\n",
      "Dimensions of original array 2\n",
      "After ravel array looks like :  [1 2 3 4]\n",
      "Shape of ravelled array (4,)\n",
      "Dimensions of ravelled array 1\n"
     ]
    },
    {
     "data": {
      "text/plain": [
       "'\\nConclusion is as below :-\\n2-D arrays ( [[1 2 3 4]] ) converted into 1-D array  [1 2 3 4]\\n\\n'"
      ]
     },
     "execution_count": 21,
     "metadata": {},
     "output_type": "execute_result"
    }
   ],
   "source": [
    "'''\n",
    " Q.4 Reshape an array np.array([1, 2, 3, 4], ndmin=2) using ravel and identify the shape, dimensions \n",
    " and write your conclusions\n",
    "'''\n",
    "import numpy as np\n",
    "numbers = np.array([1, 2, 3, 4], ndmin=2)\n",
    "print('original arrays is : ',numbers)\n",
    "print('Shape of original array', numbers.shape)\n",
    "print('Dimensions of original array', numbers.ndim)\n",
    "# using ravel function\n",
    "ravel_numbers = np.ravel(numbers)\n",
    "print('After ravel array looks like : ', ravel_numbers)\n",
    "print('Shape of ravelled array', ravel_numbers.shape)\n",
    "print('Dimensions of ravelled array', ravel_numbers.ndim)\n",
    "\n",
    "'''\n",
    "Conclusion is as below :-\n",
    "2-D arrays ( [[1 2 3 4]] ) converted into 1-D array  [1 2 3 4]\n",
    "\n",
    "'''"
   ]
  },
  {
   "cell_type": "code",
   "execution_count": null,
   "metadata": {},
   "outputs": [],
   "source": []
  }
 ],
 "metadata": {
  "kernelspec": {
   "display_name": "Python 3",
   "language": "python",
   "name": "python3"
  },
  "language_info": {
   "codemirror_mode": {
    "name": "ipython",
    "version": 3
   },
   "file_extension": ".py",
   "mimetype": "text/x-python",
   "name": "python",
   "nbconvert_exporter": "python",
   "pygments_lexer": "ipython3",
   "version": "3.7.3"
  }
 },
 "nbformat": 4,
 "nbformat_minor": 2
}
