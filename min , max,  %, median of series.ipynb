{
 "cells": [
  {
   "cell_type": "code",
   "execution_count": 22,
   "metadata": {
    "scrolled": true
   },
   "outputs": [
    {
     "name": "stdout",
     "output_type": "stream",
     "text": [
      "0      6.015766\n",
      "1      3.973802\n",
      "2     11.020571\n",
      "3      7.082131\n",
      "4      8.748000\n",
      "5     14.791295\n",
      "6     10.664078\n",
      "7     15.809698\n",
      "8      1.003812\n",
      "9      7.888262\n",
      "10    22.106583\n",
      "11    12.794574\n",
      "12     9.730426\n",
      "13    18.505669\n",
      "14     9.304988\n",
      "15     6.917304\n",
      "16     7.397708\n",
      "17    12.702035\n",
      "18     1.649136\n",
      "19    10.792241\n",
      "20    11.537393\n",
      "21    18.769865\n",
      "22     7.611410\n",
      "23     8.249337\n",
      "24    20.498302\n",
      "dtype: float64\n",
      "Minimum of series is :  1.0038121933153619\n",
      "Maximum values of series is : 22.106583138536955\n",
      "Median of series is :  9.73042581295065\n",
      "mean of series is : 10.622575434319687\n",
      "mean of series is calculated diffrently : 10.622575434319687\n",
      "25th percentiles of Given series is :  7.397707673144078\n",
      "75th percentiles of Given series is :  12.794573751589324\n"
     ]
    }
   ],
   "source": [
    "'''\n",
    "(Q.2) How to get the minimum, 25th percentile, median, 75th, and max of a numeric series?\n",
    "\n",
    "a = pd.Series(np.random.normal(10, 5, 25))\n",
    "\n",
    "'''\n",
    "import pandas as pd\n",
    "import numpy as np\n",
    "a = pd.Series(np.random.normal(10, 5, 25))\n",
    "print(a)\n",
    "print('Minimum of series is : ',a.min())\n",
    "print('Maximum values of series is :',a.max())\n",
    "print('Median of series is : ', np.median(a))\n",
    "print('mean of series is :',a.mean())\n",
    "print('mean of series is calculated diffrently :',np.mean(a))\n",
    "print('25th percentiles of Given series is : ', np.percentile(a,25))\n",
    "print('75th percentiles of Given series is : ', np.percentile(a,75))\n"
   ]
  },
  {
   "cell_type": "code",
   "execution_count": null,
   "metadata": {},
   "outputs": [],
   "source": []
  }
 ],
 "metadata": {
  "kernelspec": {
   "display_name": "Python 3",
   "language": "python",
   "name": "python3"
  },
  "language_info": {
   "codemirror_mode": {
    "name": "ipython",
    "version": 3
   },
   "file_extension": ".py",
   "mimetype": "text/x-python",
   "name": "python",
   "nbconvert_exporter": "python",
   "pygments_lexer": "ipython3",
   "version": "3.7.3"
  }
 },
 "nbformat": 4,
 "nbformat_minor": 2
}
