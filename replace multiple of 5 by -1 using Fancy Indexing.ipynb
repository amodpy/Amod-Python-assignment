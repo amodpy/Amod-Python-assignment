{
 "cells": [
  {
   "cell_type": "code",
   "execution_count": 3,
   "metadata": {},
   "outputs": [
    {
     "name": "stdout",
     "output_type": "stream",
     "text": [
      "Masks array with multiples of 5 [False  True  True False  True  True False  True]\n",
      "Updated array after masking is :  [ 1 -1 -1  4 -1 -1  7 -1]\n"
     ]
    }
   ],
   "source": [
    "'''\n",
    "Q.3 Replace the values which are multiples of 5 by -1 using fancy indexing in [1,5,10,4,15,20,7,35]\n",
    "'''\n",
    "import numpy as np\n",
    "# Create array using array function\n",
    "ages = np.array([1,5,10,4,15,20,7,35])\n",
    "masks = ( ages % 5 == 0 )\n",
    "print(\"Masks array with multiples of 5\", masks)\n",
    "ages[masks] = -1\n",
    "print(\"Updated array after masking is : \", ages)"
   ]
  },
  {
   "cell_type": "code",
   "execution_count": null,
   "metadata": {},
   "outputs": [],
   "source": []
  }
 ],
 "metadata": {
  "kernelspec": {
   "display_name": "Python 3",
   "language": "python",
   "name": "python3"
  },
  "language_info": {
   "codemirror_mode": {
    "name": "ipython",
    "version": 3
   },
   "file_extension": ".py",
   "mimetype": "text/x-python",
   "name": "python",
   "nbconvert_exporter": "python",
   "pygments_lexer": "ipython3",
   "version": "3.7.3"
  }
 },
 "nbformat": 4,
 "nbformat_minor": 2
}
