{
 "cells": [
  {
   "cell_type": "code",
   "execution_count": 9,
   "metadata": {},
   "outputs": [
    {
     "name": "stdout",
     "output_type": "stream",
     "text": [
      "This program will tell you whether given number is prime or not\n",
      "Enter Number15\n",
      "15 is not prime\n"
     ]
    }
   ],
   "source": [
    "'''\n",
    "Assignment 1.4: Python Program to check given number is Prime number or not (using break)\n",
    "'''\n",
    "# Define function to check whether given number is prime or not\n",
    "import math\n",
    "def IsPrime(number):\n",
    "    if number <= 1:\n",
    "        prime = False\n",
    "    elif number == 2:\n",
    "        prime = True\n",
    "    elif number > 2 and (number % 2) == 0:\n",
    "        prime = False\n",
    "    else:\n",
    "        max_divisor = math.floor(math.sqrt(number))\n",
    "        for divisor in range(3, max_divisor + 1, 2):\n",
    "            if number % divisor == 0:\n",
    "                prime = False\n",
    "                break    # using Break Statement\n",
    "    \n",
    "        else:\n",
    "            prime = True\n",
    "            \n",
    "    if prime == True:\n",
    "         return True\n",
    "    else:\n",
    "        return False\n",
    "# End of the Function \n",
    "        \n",
    "print('This program will tell you whether given number is prime or not')\n",
    "number = int(input('Enter Number'))  \n",
    "isprime = IsPrime(number)\n",
    "if isprime == True:\n",
    "    print(number, 'is a prime number')\n",
    "else:\n",
    "     print(number, 'is not prime')\n"
   ]
  },
  {
   "cell_type": "code",
   "execution_count": null,
   "metadata": {},
   "outputs": [],
   "source": []
  },
  {
   "cell_type": "code",
   "execution_count": null,
   "metadata": {},
   "outputs": [],
   "source": []
  }
 ],
 "metadata": {
  "kernelspec": {
   "display_name": "Python 3",
   "language": "python",
   "name": "python3"
  },
  "language_info": {
   "codemirror_mode": {
    "name": "ipython",
    "version": 3
   },
   "file_extension": ".py",
   "mimetype": "text/x-python",
   "name": "python",
   "nbconvert_exporter": "python",
   "pygments_lexer": "ipython3",
   "version": "3.7.3"
  }
 },
 "nbformat": 4,
 "nbformat_minor": 2
}
