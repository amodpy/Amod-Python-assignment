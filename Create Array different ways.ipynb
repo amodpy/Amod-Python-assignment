{
 "cells": [
  {
   "cell_type": "code",
   "execution_count": 5,
   "metadata": {},
   "outputs": [
    {
     "name": "stdout",
     "output_type": "stream",
     "text": [
      "print different ages using array function: \n",
      "[24 12 26 45 46 67]\n",
      "print different ages using arange function: \n",
      "[10 20 30 40]\n",
      "print different marks using linspace function: \n",
      "[2.   3.75 5.5  7.25 9.  ]\n"
     ]
    }
   ],
   "source": [
    "'''\n",
    "(Q). Create an array using the method 1. array 2. arange 3. linspace\n",
    "'''\n",
    "import numpy as np\n",
    "# Create array using array function\n",
    "ages = np.array([24, 12, 26, 45, 46, 67])\n",
    "print('print different ages using array function: ')\n",
    "print(ages)\n",
    "# Create array using arange function\n",
    "ages = np.arange(10, 50, 10)\n",
    "print('print different ages using arange function: ')\n",
    "print(ages)\n",
    "# Create array using linspace \n",
    "marks = np.linspace(2.0, 9.0, 5)\n",
    "print('print different marks using linspace function: ')\n",
    "print(marks)"
   ]
  },
  {
   "cell_type": "code",
   "execution_count": null,
   "metadata": {},
   "outputs": [],
   "source": []
  }
 ],
 "metadata": {
  "kernelspec": {
   "display_name": "Python 3",
   "language": "python",
   "name": "python3"
  },
  "language_info": {
   "codemirror_mode": {
    "name": "ipython",
    "version": 3
   },
   "file_extension": ".py",
   "mimetype": "text/x-python",
   "name": "python",
   "nbconvert_exporter": "python",
   "pygments_lexer": "ipython3",
   "version": "3.7.3"
  }
 },
 "nbformat": 4,
 "nbformat_minor": 2
}
