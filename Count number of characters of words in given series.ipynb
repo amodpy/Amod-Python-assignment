{
 "cells": [
  {
   "cell_type": "code",
   "execution_count": 7,
   "metadata": {
    "scrolled": true
   },
   "outputs": [
    {
     "name": "stdout",
     "output_type": "stream",
     "text": [
      "Number of characters in \"how\" is  3\n",
      "Number of characters in \"to\" is  2\n",
      "Number of characters in \"kick\" is  4\n",
      "Number of characters in \"ass?\" is  4\n"
     ]
    }
   ],
   "source": [
    "'''\n",
    "How to calculate the number of characters in each word in a series? series = pd.Series(['how', 'to', 'kick', 'ass?'])\n",
    "'''\n",
    "import pandas as pd\n",
    "import numpy as np\n",
    "series = pd.Series(['how', 'to', 'kick', 'ass?'])\n",
    "#print(series)\n",
    "i = 0\n",
    "for word in series:\n",
    "    print('Number of characters in \"{}\" is  {}'.format(series[i],len(word)))\n",
    "    i = i + 1"
   ]
  },
  {
   "cell_type": "code",
   "execution_count": null,
   "metadata": {},
   "outputs": [],
   "source": []
  },
  {
   "cell_type": "code",
   "execution_count": null,
   "metadata": {},
   "outputs": [],
   "source": []
  }
 ],
 "metadata": {
  "kernelspec": {
   "display_name": "Python 3",
   "language": "python",
   "name": "python3"
  },
  "language_info": {
   "codemirror_mode": {
    "name": "ipython",
    "version": 3
   },
   "file_extension": ".py",
   "mimetype": "text/x-python",
   "name": "python",
   "nbconvert_exporter": "python",
   "pygments_lexer": "ipython3",
   "version": "3.7.3"
  }
 },
 "nbformat": 4,
 "nbformat_minor": 2
}
